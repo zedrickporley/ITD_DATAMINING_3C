{
 "cells": [
  {
   "cell_type": "code",
   "execution_count": null,
   "id": "d6cb2d45-986b-4c21-8050-61a34e20686d",
   "metadata": {},
   "outputs": [],
   "source": []
  },
  {
   "cell_type": "code",
   "execution_count": 1,
   "id": "16d185bb-2985-452a-ba30-8acdd89a00c3",
   "metadata": {},
   "outputs": [],
   "source": [
    "import numpy as np\n",
    "import seaborn as sns\n",
    "import pandas as pd\n",
    "import matplotlib.pyplot as plt\n",
    "from  scipy.stats import f_oneway\n",
    "import warnings \n",
    "warnings.filterwarnings('ignore')"
   ]
  },
  {
   "cell_type": "code",
   "execution_count": 2,
   "id": "457f868c-8ad1-4796-949d-844332d18d2d",
   "metadata": {},
   "outputs": [],
   "source": [
    "import pandas as pd\n",
    "accidents =  pd.read_csv('accident_data.csv')"
   ]
  },
  {
   "cell_type": "code",
   "execution_count": 3,
   "id": "333cd065-0b0d-4b9a-ab47-3c4528ad5052",
   "metadata": {},
   "outputs": [
    {
     "data": {
      "text/html": [
       "<div>\n",
       "<style scoped>\n",
       "    .dataframe tbody tr th:only-of-type {\n",
       "        vertical-align: middle;\n",
       "    }\n",
       "\n",
       "    .dataframe tbody tr th {\n",
       "        vertical-align: top;\n",
       "    }\n",
       "\n",
       "    .dataframe thead th {\n",
       "        text-align: right;\n",
       "    }\n",
       "</style>\n",
       "<table border=\"1\" class=\"dataframe\">\n",
       "  <thead>\n",
       "    <tr style=\"text-align: right;\">\n",
       "      <th></th>\n",
       "      <th>Latitude</th>\n",
       "      <th>Longitude</th>\n",
       "      <th>Number_of_Casualties</th>\n",
       "      <th>Number_of_Vehicles</th>\n",
       "    </tr>\n",
       "  </thead>\n",
       "  <tbody>\n",
       "    <tr>\n",
       "      <th>count</th>\n",
       "      <td>660654.000000</td>\n",
       "      <td>660653.000000</td>\n",
       "      <td>660679.000000</td>\n",
       "      <td>660679.000000</td>\n",
       "    </tr>\n",
       "    <tr>\n",
       "      <th>mean</th>\n",
       "      <td>52.553866</td>\n",
       "      <td>-1.431210</td>\n",
       "      <td>1.357040</td>\n",
       "      <td>1.831255</td>\n",
       "    </tr>\n",
       "    <tr>\n",
       "      <th>std</th>\n",
       "      <td>1.406922</td>\n",
       "      <td>1.383330</td>\n",
       "      <td>0.824847</td>\n",
       "      <td>0.715269</td>\n",
       "    </tr>\n",
       "    <tr>\n",
       "      <th>min</th>\n",
       "      <td>49.914430</td>\n",
       "      <td>-7.516225</td>\n",
       "      <td>1.000000</td>\n",
       "      <td>1.000000</td>\n",
       "    </tr>\n",
       "    <tr>\n",
       "      <th>25%</th>\n",
       "      <td>51.490690</td>\n",
       "      <td>-2.332291</td>\n",
       "      <td>1.000000</td>\n",
       "      <td>1.000000</td>\n",
       "    </tr>\n",
       "    <tr>\n",
       "      <th>50%</th>\n",
       "      <td>52.315641</td>\n",
       "      <td>-1.411667</td>\n",
       "      <td>1.000000</td>\n",
       "      <td>2.000000</td>\n",
       "    </tr>\n",
       "    <tr>\n",
       "      <th>75%</th>\n",
       "      <td>53.453452</td>\n",
       "      <td>-0.232869</td>\n",
       "      <td>1.000000</td>\n",
       "      <td>2.000000</td>\n",
       "    </tr>\n",
       "    <tr>\n",
       "      <th>max</th>\n",
       "      <td>60.757544</td>\n",
       "      <td>1.762010</td>\n",
       "      <td>68.000000</td>\n",
       "      <td>32.000000</td>\n",
       "    </tr>\n",
       "  </tbody>\n",
       "</table>\n",
       "</div>"
      ],
      "text/plain": [
       "            Latitude      Longitude  Number_of_Casualties  Number_of_Vehicles\n",
       "count  660654.000000  660653.000000         660679.000000       660679.000000\n",
       "mean       52.553866      -1.431210              1.357040            1.831255\n",
       "std         1.406922       1.383330              0.824847            0.715269\n",
       "min        49.914430      -7.516225              1.000000            1.000000\n",
       "25%        51.490690      -2.332291              1.000000            1.000000\n",
       "50%        52.315641      -1.411667              1.000000            2.000000\n",
       "75%        53.453452      -0.232869              1.000000            2.000000\n",
       "max        60.757544       1.762010             68.000000           32.000000"
      ]
     },
     "execution_count": 3,
     "metadata": {},
     "output_type": "execute_result"
    }
   ],
   "source": [
    "accidents.describe()"
   ]
  },
  {
   "cell_type": "code",
   "execution_count": 4,
   "id": "2fb1c942-b5e7-429d-b9cc-17002ca8d6ce",
   "metadata": {},
   "outputs": [
    {
     "name": "stdout",
     "output_type": "stream",
     "text": [
      "<class 'pandas.core.frame.DataFrame'>\n",
      "RangeIndex: 660679 entries, 0 to 660678\n",
      "Data columns (total 14 columns):\n",
      " #   Column                   Non-Null Count   Dtype  \n",
      "---  ------                   --------------   -----  \n",
      " 0   Index                    660679 non-null  object \n",
      " 1   Accident_Severity        660679 non-null  object \n",
      " 2   Accident Date            660679 non-null  object \n",
      " 3   Latitude                 660654 non-null  float64\n",
      " 4   Light_Conditions         660679 non-null  object \n",
      " 5   District Area            660679 non-null  object \n",
      " 6   Longitude                660653 non-null  float64\n",
      " 7   Number_of_Casualties     660679 non-null  int64  \n",
      " 8   Number_of_Vehicles       660679 non-null  int64  \n",
      " 9   Road_Surface_Conditions  659953 non-null  object \n",
      " 10  Road_Type                656159 non-null  object \n",
      " 11  Urban_or_Rural_Area      660664 non-null  object \n",
      " 12  Weather_Conditions       646551 non-null  object \n",
      " 13  Vehicle_Type             660679 non-null  object \n",
      "dtypes: float64(2), int64(2), object(10)\n",
      "memory usage: 70.6+ MB\n"
     ]
    }
   ],
   "source": [
    "accidents.info()"
   ]
  },
  {
   "cell_type": "code",
   "execution_count": 5,
   "id": "29c8e134-8d0c-4697-a641-640feca63aac",
   "metadata": {},
   "outputs": [
    {
     "name": "stdout",
     "output_type": "stream",
     "text": [
      "Index                      category\n",
      "Accident_Severity          category\n",
      "Accident Date              category\n",
      "Latitude                    float64\n",
      "Light_Conditions           category\n",
      "District Area              category\n",
      "Longitude                   float64\n",
      "Number_of_Casualties          int64\n",
      "Number_of_Vehicles            int64\n",
      "Road_Surface_Conditions    category\n",
      "Road_Type                  category\n",
      "Urban_or_Rural_Area        category\n",
      "Weather_Conditions         category\n",
      "Vehicle_Type               category\n",
      "dtype: object\n"
     ]
    }
   ],
   "source": [
    "category_col =['Index','Accident_Severity','Accident Date','Light_Conditions','District Area','Road_Surface_Conditions','Road_Type'\n",
    "              ,'Urban_or_Rural_Area','Weather_Conditions','Vehicle_Type',]\n",
    "\n",
    "\n",
    "for col in category_col:\n",
    "    accidents[col] = accidents[col].astype('category')\n",
    "\n",
    "print(accidents.dtypes)"
   ]
  },
  {
   "cell_type": "markdown",
   "id": "088ee852-5526-4eaa-8691-38fa1d2aa3d6",
   "metadata": {},
   "source": [
    "<H1>FILLING UP NULL VALUES</H1>"
   ]
  },
  {
   "cell_type": "code",
   "execution_count": 6,
   "id": "e48d3ba0-25cc-4435-a64a-4c09393c8192",
   "metadata": {},
   "outputs": [
    {
     "data": {
      "text/plain": [
       "Index                          0\n",
       "Accident_Severity              0\n",
       "Accident Date                  0\n",
       "Latitude                       0\n",
       "Light_Conditions               0\n",
       "District Area                  0\n",
       "Longitude                      0\n",
       "Number_of_Casualties           0\n",
       "Number_of_Vehicles             0\n",
       "Road_Surface_Conditions        0\n",
       "Road_Type                      0\n",
       "Urban_or_Rural_Area            0\n",
       "Weather_Conditions         14128\n",
       "Vehicle_Type                   0\n",
       "dtype: int64"
      ]
     },
     "execution_count": 6,
     "metadata": {},
     "output_type": "execute_result"
    }
   ],
   "source": [
    "accidents['Accident Date'] = accidents['Accident Date'].fillna(accidents['Accident Date'].mode()[0])\n",
    "accidents['Latitude'] = accidents['Latitude'].fillna(accidents['Latitude'].mode()[0])\n",
    "accidents['Longitude'] = accidents['Longitude'].fillna(accidents['Longitude'].mode()[0])\n",
    "accidents['Road_Surface_Conditions'] = accidents['Road_Surface_Conditions'].fillna(accidents['Road_Surface_Conditions'].mode()[0])\n",
    "accidents['Road_Type'] = accidents['Road_Type'].fillna(accidents['Road_Type'].mode()[0])\n",
    "accidents['Urban_or_Rural_Area'] = accidents['Urban_or_Rural_Area'].fillna(accidents['Urban_or_Rural_Area'].mode()[0])\n",
    "accidents.isnull().sum()"
   ]
  },
  {
   "cell_type": "code",
   "execution_count": 7,
   "id": "2f11a78f-2c96-4d31-b58c-94a8fb9f762a",
   "metadata": {},
   "outputs": [],
   "source": [
    "accidents['Accident Date'] = pd.to_datetime(accidents['Accident Date'], dayfirst = True, errors = 'coerce')"
   ]
  },
  {
   "cell_type": "code",
   "execution_count": null,
   "id": "ebe65bbf-64e6-4cfc-9ea9-ca5b8f28dcdd",
   "metadata": {},
   "outputs": [],
   "source": []
  },
  {
   "cell_type": "code",
   "execution_count": 8,
   "id": "bdb376db-84bf-44b9-9bd4-b739d3d8ef8e",
   "metadata": {},
   "outputs": [
    {
     "data": {
      "text/plain": [
       "Index                            category\n",
       "Accident_Severity                category\n",
       "Accident Date              datetime64[ns]\n",
       "Latitude                          float64\n",
       "Light_Conditions                 category\n",
       "District Area                    category\n",
       "Longitude                         float64\n",
       "Number_of_Casualties                int64\n",
       "Number_of_Vehicles                  int64\n",
       "Road_Surface_Conditions          category\n",
       "Road_Type                        category\n",
       "Urban_or_Rural_Area              category\n",
       "Weather_Conditions               category\n",
       "Vehicle_Type                     category\n",
       "dtype: object"
      ]
     },
     "execution_count": 8,
     "metadata": {},
     "output_type": "execute_result"
    }
   ],
   "source": [
    "accidents.dtypes"
   ]
  },
  {
   "cell_type": "code",
   "execution_count": 9,
   "id": "69401181-0d38-491b-9a36-4835e5d1b2ac",
   "metadata": {},
   "outputs": [
    {
     "data": {
      "text/plain": [
       "Index                           0\n",
       "Accident_Severity               0\n",
       "Accident Date              395672\n",
       "Latitude                        0\n",
       "Light_Conditions                0\n",
       "District Area                   0\n",
       "Longitude                       0\n",
       "Number_of_Casualties            0\n",
       "Number_of_Vehicles              0\n",
       "Road_Surface_Conditions         0\n",
       "Road_Type                       0\n",
       "Urban_or_Rural_Area             0\n",
       "Weather_Conditions          14128\n",
       "Vehicle_Type                    0\n",
       "dtype: int64"
      ]
     },
     "execution_count": 9,
     "metadata": {},
     "output_type": "execute_result"
    }
   ],
   "source": [
    "accidents.isnull().sum()"
   ]
  },
  {
   "cell_type": "markdown",
   "id": "cca0961a-47da-4c1b-92dc-1b8013c8fc9f",
   "metadata": {},
   "source": [
    "<h1>Q1: WHAT IS THE DISTRICT WITH THE HIGHEST NUMBER OF CASUALTIES?</h1>"
   ]
  },
  {
   "cell_type": "code",
   "execution_count": 10,
   "id": "df70a061-6b9f-43c8-8a09-e118d86c3c08",
   "metadata": {},
   "outputs": [
    {
     "data": {
      "text/plain": [
       "District Area\n",
       "Aberdeen City    1508\n",
       "Aberdeenshire    2529\n",
       "Adur              817\n",
       "Allerdale        1663\n",
       "Alnwick           351\n",
       "                 ... \n",
       "Wychavon         1943\n",
       "Wycombe          2442\n",
       "Wyre             1706\n",
       "Wyre Forest      1340\n",
       "York             2453\n",
       "Name: Number_of_Casualties, Length: 422, dtype: int64"
      ]
     },
     "execution_count": 10,
     "metadata": {},
     "output_type": "execute_result"
    }
   ],
   "source": [
    "district_casualties = accidents.groupby('District Area')['Number_of_Casualties'].sum()\n",
    "district_casualties"
   ]
  },
  {
   "cell_type": "markdown",
   "id": "c0828c27-a887-48af-863b-aa40a62a2a35",
   "metadata": {},
   "source": [
    "<h1>insight1.1:Aberdeenshire has the highest number of casualties</h1>"
   ]
  },
  {
   "cell_type": "markdown",
   "id": "15312f8c-31d6-488e-ba06-cd38b728de2a",
   "metadata": {},
   "source": [
    "<h1>insight2: what is the number of casualties in  aberdeenshire</h1>"
   ]
  },
  {
   "cell_type": "code",
   "execution_count": 11,
   "id": "ab6804c2-2131-463a-b33f-3bacb2c69522",
   "metadata": {},
   "outputs": [
    {
     "data": {
      "text/plain": [
       "np.int64(2529)"
      ]
     },
     "execution_count": 11,
     "metadata": {},
     "output_type": "execute_result"
    }
   ],
   "source": [
    "aberdeenshire_casualties = district_casualties['Aberdeenshire']\n",
    "aberdeenshire_casualties"
   ]
  },
  {
   "cell_type": "markdown",
   "id": "06609517-f4d6-4481-aa35-aa96250f53ec",
   "metadata": {},
   "source": [
    "<H1>ANS:Aberdeenshire has the highest number of casualties with 2529.</H1>"
   ]
  },
  {
   "cell_type": "markdown",
   "id": "bdee3515-15c3-440b-aaf0-7c3a3c8eccbe",
   "metadata": {},
   "source": [
    "<H1>Q2:What is the distribution of Accident_Severity? </H1>"
   ]
  },
  {
   "cell_type": "code",
   "execution_count": 12,
   "id": "0de504e0-7726-48d7-8ec9-a50599e03429",
   "metadata": {},
   "outputs": [
    {
     "data": {
      "text/plain": [
       "Accident_Severity\n",
       "Slight     563801\n",
       "Serious     88217\n",
       "Fatal        8661\n",
       "Name: count, dtype: int64"
      ]
     },
     "execution_count": 12,
     "metadata": {},
     "output_type": "execute_result"
    }
   ],
   "source": [
    "accidents['Accident_Severity'].value_counts()\n"
   ]
  },
  {
   "cell_type": "markdown",
   "id": "a4e064f0-fc10-4557-b7c2-d7aaa0792392",
   "metadata": {},
   "source": [
    "<h1>insight3: Slight: 85.5% </h1>\n",
    "<h1>insight4: Serious: 13.4% </h1>\n",
    "<h1>insight5: Fatal: 1.3% </h1>\n",
    "<h1>overall, slights severity have the highest percentage in accident severity</h1>"
   ]
  },
  {
   "cell_type": "markdown",
   "id": "125bb7c8-f106-48a1-929e-822a79832ded",
   "metadata": {},
   "source": [
    "<h1>Q3:How often do different Light_Conditions occur in accidents?</h1>"
   ]
  },
  {
   "cell_type": "code",
   "execution_count": 13,
   "id": "5acaa1a9-e5d2-4cf3-bb48-1f58c230929f",
   "metadata": {},
   "outputs": [
    {
     "data": {
      "text/plain": [
       "Light_Conditions\n",
       "Daylight                       484880\n",
       "Darkness - lights lit          129335\n",
       "Darkness - no lighting          37437\n",
       "Darkness - lighting unknown      6484\n",
       "Darkness - lights unlit          2543\n",
       "Name: count, dtype: int64"
      ]
     },
     "execution_count": 13,
     "metadata": {},
     "output_type": "execute_result"
    }
   ],
   "source": [
    "accidents['Light_Conditions'].value_counts()\n"
   ]
  },
  {
   "cell_type": "markdown",
   "id": "6c75b6b5-c331-407d-a8c3-984cdf9e70be",
   "metadata": {},
   "source": [
    "<h1>insight6: 73.4 percent of accident happen on daylight</h1>\n",
    "<h1>insight7: 19.6 percent of accident happen on Darkness - lights lit</h1>\n",
    "<h1>insight8: 5.7 percent of accident happen on Darkness - no lighting</h1>\n",
    "<h1>insight9: 1.0 percent of accident happen on Darkness - lighting unknown</h1>\n",
    "<h1>insight10: 0.4 percent of accident happen on Darkness - lights unlit</h1>"
   ]
  },
  {
   "cell_type": "markdown",
   "id": "2137872b-1dcd-4713-9b18-98916a5ca8e9",
   "metadata": {},
   "source": [
    "<h1>Q4:number of accidents during weather conditions</h1>"
   ]
  },
  {
   "cell_type": "code",
   "execution_count": 14,
   "id": "55beceb8-3201-41db-8fdb-098c69f00c31",
   "metadata": {},
   "outputs": [
    {
     "data": {
      "text/plain": [
       "Weather_Conditions\n",
       "Fine no high winds       520885\n",
       "Raining no high winds     79696\n",
       "Other                     17150\n",
       "Raining + high winds       9615\n",
       "Fine + high winds          8554\n",
       "Snowing no high winds      6238\n",
       "Fog or mist                3528\n",
       "Snowing + high winds        885\n",
       "Name: count, dtype: int64"
      ]
     },
     "execution_count": 14,
     "metadata": {},
     "output_type": "execute_result"
    }
   ],
   "source": [
    "accidents['Weather_Conditions'].value_counts()\n"
   ]
  },
  {
   "cell_type": "markdown",
   "id": "80e7fb2e-cfcd-4447-a373-86ad884aa8e9",
   "metadata": {},
   "source": [
    "<H1>INSIGHT11: Fine no high winds: 520885 or 81.7%</H1>\n",
    "<H1>INSIGHT12: Raining no high winds:79696 or 12.5%</H1>\n",
    "<H1>INSIGHT13: Other: 17150 or 2.7%</H1>\n",
    "<H1>INSIGHT14: Raining + high winds: 9615 or 1.5%</H1>\n",
    "<H1>INSIGHT15: Fine + high winds: 8554 or 1.3%</H1>\n",
    "<H1>INSIGHT 16:Fog or mist: 3528 or  0.6%</H1>\n",
    "<H1>INSIGHT 17:Snowing + high winds: 885 or 0.1%</H1>\n",
    "<H2>basically, accidents happens on a sunny day weather conditions</H2>"
   ]
  },
  {
   "cell_type": "markdown",
   "id": "94c93769-282e-43a7-9649-c20044953b09",
   "metadata": {},
   "source": [
    "<h1>Q5:How does Road_Type affect the number of Number_of_Casualties?</h1>"
   ]
  },
  {
   "cell_type": "code",
   "execution_count": 15,
   "id": "17932cc8-f897-4ba8-9f41-3148c4d84116",
   "metadata": {},
   "outputs": [
    {
     "data": {
      "text/plain": [
       "Road_Type\n",
       "Dual carriageway      1.477279\n",
       "One way street        1.192713\n",
       "Roundabout            1.274891\n",
       "Single carriageway    1.343788\n",
       "Slip road             1.423661\n",
       "Name: Number_of_Casualties, dtype: float64"
      ]
     },
     "execution_count": 15,
     "metadata": {},
     "output_type": "execute_result"
    }
   ],
   "source": [
    "accidents.groupby('Road_Type')['Number_of_Casualties'].mean()\n"
   ]
  },
  {
   "cell_type": "markdown",
   "id": "fcbb2782-111d-4a4d-8005-bad082e481b2",
   "metadata": {},
   "source": [
    "<h1>Insight:18\n",
    "    \n",
    "Different road types have varying impacts on the average number of casualties. \n",
    "\n",
    "Dual carriageway: Average number of casualties is 1.477279, which is the highest among the road types listed.\n",
    "\n",
    "Slip road: Average number of casualties is 1.423661, slightly lower than dual carriageways.\n",
    "\n",
    "Single carriageway: Average number of casualties is 1.343788.\n",
    "\n",
    "Roundabout: Average number of casualties is 1.274891.\n",
    "\n",
    " INSIGHT One way street: Average number of casualties is 1.192713, which is the lowest among the road types listed.</h1>"
   ]
  },
  {
   "cell_type": "code",
   "execution_count": null,
   "id": "9820092a-2ccc-4eb3-8877-a87a9fc1e438",
   "metadata": {},
   "outputs": [],
   "source": []
  },
  {
   "cell_type": "markdown",
   "id": "f415c1cb-a0c1-4859-81a0-718ff40921b2",
   "metadata": {},
   "source": [
    "<h1>Q6:How do Light_Conditions affect the Number_of_Casualties?</h1>"
   ]
  },
  {
   "cell_type": "code",
   "execution_count": 16,
   "id": "818a0c33-0c37-4d54-adc5-75f405dbba25",
   "metadata": {},
   "outputs": [
    {
     "data": {
      "text/plain": [
       "Light_Conditions\n",
       "Darkness - lighting unknown    1.306447\n",
       "Darkness - lights lit          1.369374\n",
       "Darkness - lights unlit        1.331105\n",
       "Darkness - no lighting         1.541657\n",
       "Daylight                       1.340309\n",
       "Name: Number_of_Casualties, dtype: float64"
      ]
     },
     "execution_count": 16,
     "metadata": {},
     "output_type": "execute_result"
    }
   ],
   "source": [
    "accidents.groupby('Light_Conditions')['Number_of_Casualties'].mean()\n"
   ]
  },
  {
   "cell_type": "markdown",
   "id": "f11075e2-f2c2-4fdb-b5ac-f74358c80a7a",
   "metadata": {},
   "source": [
    "<h1>INSIGHT19:\n",
    "No Lighting: The most dangerous, with the highest average casualties.\n",
    "\n",
    "Lights Lit: Still dangerous at night, even with streetlights.\n",
    "\n",
    "Lights Unlit: Slightly safer than lit lights, but still risky.\n",
    "\n",
    "Daylight: Safer than nighttime, with fewer casualties.\n",
    "\n",
    "Unknown Lighting: Least average casualties, but data might not be reliable.</h1>\n"
   ]
  },
  {
   "cell_type": "markdown",
   "id": "5175c966-019f-43a7-a55e-72c5199d6058",
   "metadata": {},
   "source": [
    "<h1>Q7:How do Weather_Conditions, Light_Conditions, and Accident_Severity interact?</h1>\n"
   ]
  },
  {
   "cell_type": "code",
   "execution_count": 17,
   "id": "131c0841-2495-4204-ab50-f7c0f95976a1",
   "metadata": {},
   "outputs": [
    {
     "data": {
      "text/plain": [
       "Weather_Conditions     Light_Conditions           \n",
       "Fine + high winds      Darkness - lighting unknown    1.389831\n",
       "                       Darkness - lights lit          1.373110\n",
       "                       Darkness - lights unlit        1.470588\n",
       "                       Darkness - no lighting         1.523869\n",
       "                       Daylight                       1.370428\n",
       "Fine no high winds     Darkness - lighting unknown    1.331252\n",
       "                       Darkness - lights lit          1.366880\n",
       "                       Darkness - lights unlit        1.324118\n",
       "                       Darkness - no lighting         1.560301\n",
       "                       Daylight                       1.333901\n",
       "Fog or mist            Darkness - lighting unknown    1.369231\n",
       "                       Darkness - lights lit          1.436482\n",
       "                       Darkness - lights unlit        1.297297\n",
       "                       Darkness - no lighting         1.469838\n",
       "                       Daylight                       1.460134\n",
       "Other                  Darkness - lighting unknown    1.258065\n",
       "                       Darkness - lights lit          1.360608\n",
       "                       Darkness - lights unlit        1.237762\n",
       "                       Darkness - no lighting         1.474674\n",
       "                       Daylight                       1.332871\n",
       "Raining + high winds   Darkness - lighting unknown    1.324324\n",
       "                       Darkness - lights lit          1.364971\n",
       "                       Darkness - lights unlit        1.575342\n",
       "                       Darkness - no lighting         1.527056\n",
       "                       Daylight                       1.416633\n",
       "Raining no high winds  Darkness - lighting unknown    1.301127\n",
       "                       Darkness - lights lit          1.392526\n",
       "                       Darkness - lights unlit        1.350763\n",
       "                       Darkness - no lighting         1.536405\n",
       "                       Daylight                       1.401230\n",
       "Snowing + high winds   Darkness - lighting unknown    1.400000\n",
       "                       Darkness - lights lit          1.468880\n",
       "                       Darkness - lights unlit        1.400000\n",
       "                       Darkness - no lighting         1.444444\n",
       "                       Daylight                       1.381898\n",
       "Snowing no high winds  Darkness - lighting unknown    1.265957\n",
       "                       Darkness - lights lit          1.318928\n",
       "                       Darkness - lights unlit        1.233333\n",
       "                       Darkness - no lighting         1.392109\n",
       "                       Daylight                       1.345036\n",
       "Name: Number_of_Casualties, dtype: float64"
      ]
     },
     "execution_count": 17,
     "metadata": {},
     "output_type": "execute_result"
    }
   ],
   "source": [
    "accidents.groupby(['Weather_Conditions', 'Light_Conditions'])['Number_of_Casualties'].mean()\n",
    "\n"
   ]
  },
  {
   "cell_type": "markdown",
   "id": "e02c371f-446e-4a77-9be2-d581c975ae57",
   "metadata": {},
   "source": [
    "<H1>\n",
    "INSIGHTS20:\n",
    "Fine Weather (High Winds/No High Winds):\n",
    "    \n",
    "Daylight: Generally results in fewer casualties.\n",
    "\n",
    "DaRkness - No Lighting: Highest casualties, especially without lighting.\n",
    "\n",
    "Daylight: Fewer casualties compared to night.\n",
    "\n",
    "Darkness - Lights Unlit: Lowest casualties within foggy conditions.\n",
    "\n",
    "Darkness - No Lighting: Higher casualties.\n",
    "\n",
    "Daylight: Safer with fewer casualties.\n",
    "\n",
    "Raining (With/Without High Winds):\n",
    "\n",
    "DaylighT: Slightly fewer casualties.\n",
    "\n",
    "Darkness - No Lighting: Higher casualties.\n",
    "\n",
    "Snowing (With/Without High Winds):\n",
    "|\n",
    "</H1>"
   ]
  },
  {
   "cell_type": "markdown",
   "id": "36723bbd-6aed-46bf-855e-66cf2cd88aee",
   "metadata": {},
   "source": [
    "<h1>Q8:Does light Conditions and Weather Conditions affects the Severity of an accidents</h1>"
   ]
  },
  {
   "cell_type": "code",
   "execution_count": 18,
   "id": "166630ce-50d4-487f-a78f-5fe81754f0c8",
   "metadata": {},
   "outputs": [
    {
     "data": {
      "text/plain": [
       "Weather_Conditions     Light_Conditions             Accident_Severity\n",
       "Fine + high winds      Darkness - lighting unknown  Slight                 49\n",
       "                                                    Serious                 7\n",
       "                                                    Fatal                   3\n",
       "                       Darkness - lights lit        Slight               1497\n",
       "                                                    Serious               311\n",
       "                                                                         ... \n",
       "Snowing no high winds  Darkness - no lighting       Serious               107\n",
       "                                                    Fatal                  11\n",
       "                       Daylight                     Slight               3163\n",
       "                                                    Serious               292\n",
       "                                                    Fatal                  20\n",
       "Name: count, Length: 120, dtype: int64"
      ]
     },
     "execution_count": 18,
     "metadata": {},
     "output_type": "execute_result"
    }
   ],
   "source": [
    "accidents.groupby(['Weather_Conditions', 'Light_Conditions'])['Accident_Severity'].value_counts()\n"
   ]
  },
  {
   "cell_type": "markdown",
   "id": "0b1575e6-e681-45b9-b650-de5186ec7624",
   "metadata": {},
   "source": [
    "<h1>INSIGHTS21:\n",
    "    Fine + High Winds:\n",
    "\n",
    "Darkness - lighting unknown: Most accidents are slight, with a few serious and fatal.\n",
    "\n",
    "Darkness - lights lit: Higher number of slight accidents, followed by serious accidents.\n",
    "\n",
    "Snowing No High Winds:\n",
    "\n",
    "Darkness - no lighting: Higher number of serious accidents and some fatal accidents.\n",
    "\n",
    "Daylight: Most accidents are slight, followed by serious and a few fatal.</h1>"
   ]
  },
  {
   "cell_type": "markdown",
   "id": "6226f3ae-6b4f-41e8-a276-b097eff2fa5d",
   "metadata": {},
   "source": [
    "<h1>Q9:What is the distribution of accidents based on Accident_Severity?</h1>"
   ]
  },
  {
   "cell_type": "code",
   "execution_count": 19,
   "id": "cd29a0e1-7d59-4649-ada6-2af3ec95bb06",
   "metadata": {},
   "outputs": [
    {
     "name": "stdout",
     "output_type": "stream",
     "text": [
      "Accident_Severity\n",
      "Slight     563801\n",
      "Serious     88217\n",
      "Fatal        8661\n",
      "Name: count, dtype: int64\n"
     ]
    }
   ],
   "source": [
    "accident_severity_distribution = accidents['Accident_Severity'].value_counts()\n",
    "print(accident_severity_distribution)"
   ]
  },
  {
   "cell_type": "markdown",
   "id": "13f2e672-eafb-43ee-a07b-5987c751cb38",
   "metadata": {},
   "source": [
    "<H1> INSIGHTS22:\n",
    "distribution of accidents based on severity in percentage:\n",
    "Slight: 563,801 accidents (87.02%)\n",
    "\n",
    "Serious: 88,217 accidents (13.63%)\n",
    "\n",
    "Fatal: 8,661 accidents (1.34%)</H1>"
   ]
  },
  {
   "cell_type": "markdown",
   "id": "563479e3-cf6d-4893-86a1-758c683b126a",
   "metadata": {},
   "source": [
    "<h1>Q10:What is the average number of casualties per accident?</h1>"
   ]
  },
  {
   "cell_type": "code",
   "execution_count": 20,
   "id": "eb3de43f-57d3-45dc-86b7-c12af8263e33",
   "metadata": {},
   "outputs": [
    {
     "name": "stdout",
     "output_type": "stream",
     "text": [
      "1.357040257068864\n"
     ]
    }
   ],
   "source": [
    "average_casualties = accidents['Number_of_Casualties'].mean()\n",
    "print(average_casualties)"
   ]
  },
  {
   "cell_type": "markdown",
   "id": "f927597e-cd71-4ff0-89d2-c97c2aaded32",
   "metadata": {},
   "source": [
    "<H1>insight23:The average number of casualties per accident is 1.357040257068864 or 16.96%.</H1>"
   ]
  },
  {
   "cell_type": "markdown",
   "id": "12f5bc77-957d-4273-8da3-24bab0f665ae",
   "metadata": {},
   "source": [
    "<h1>Q11:What is the most common Vehicle_Type involved in accidents?</h1>"
   ]
  },
  {
   "cell_type": "code",
   "execution_count": 22,
   "id": "843cb32f-7f4a-45a0-9fc9-51dd3b22192e",
   "metadata": {},
   "outputs": [
    {
     "name": "stdout",
     "output_type": "stream",
     "text": [
      "Vehicle_Type\n",
      "Car                                      497992\n",
      "Van / Goods 3.5 tonnes mgw or under       34160\n",
      "Bus or coach (17 or more pass seats)      25878\n",
      "Motorcycle over 500cc                     25657\n",
      "Goods 7.5 tonnes mgw and over             17307\n",
      "Motorcycle 125cc and under                15269\n",
      "Taxi/Private hire car                     13294\n",
      "Motorcycle over 125cc and up to 500cc      7656\n",
      "Motorcycle 50cc and under                  7603\n",
      "Goods over 3.5t. and under 7.5t            6096\n",
      "Other vehicle                              5637\n",
      "Minibus (8 - 16 passenger seats)           1976\n",
      "Agricultural vehicle                       1947\n",
      "Pedal cycle                                 197\n",
      "Data missing or out of range                  6\n",
      "Ridden horse                                  4\n",
      "Name: count, dtype: int64\n"
     ]
    }
   ],
   "source": [
    "vehicle_type_distribution = accidents['Vehicle_Type'].value_counts()\n",
    "\n",
    "\n",
    "print(vehicle_type_distribution)"
   ]
  },
  {
   "cell_type": "markdown",
   "id": "b7255c0a-ea49-4f9a-9691-09c96ba26445",
   "metadata": {},
   "source": [
    "<H1>insight24:</H1>\n",
    "<h1>Cars Everywhere: No surprise here—cars are involved in the most accidents. With 497,992 incidents, it looks like cars are the biggest culprits on the road.</h1>\n",
    "<h1>Bikes and Big Trucks: Motorcycles and big trucks are also pretty accident-prone. Motorcycles over 500cc and heavy goods vehicles seem to have a knack for getting into accidents. Maybe it's their size, speed, or just bad luck.</h1>\n",
    "<h1>Rarely Seen on the Accident List: Some vehicles, like ridden horses 4 accidents and pedal cycles 197 accidents, hardly ever show up in accident stats. Probably because there aren't too many of them on the roads.</h1>\n",
    "<h1>Passenger Vehicles: Buses and minibuses have their fair share of accidents too . So, it’s crucial to keep safety top of mind for these passenger vehicles—make sure drivers are well-trained, and the vehicles are in good shape.</h1>"
   ]
  },
  {
   "cell_type": "code",
   "execution_count": null,
   "id": "2473fb89-7028-4584-9a33-e72d4103385f",
   "metadata": {},
   "outputs": [],
   "source": []
  }
 ],
 "metadata": {
  "kernelspec": {
   "display_name": "Python 3 (ipykernel)",
   "language": "python",
   "name": "python3"
  },
  "language_info": {
   "codemirror_mode": {
    "name": "ipython",
    "version": 3
   },
   "file_extension": ".py",
   "mimetype": "text/x-python",
   "name": "python",
   "nbconvert_exporter": "python",
   "pygments_lexer": "ipython3",
   "version": "3.13.2"
  }
 },
 "nbformat": 4,
 "nbformat_minor": 5
}
